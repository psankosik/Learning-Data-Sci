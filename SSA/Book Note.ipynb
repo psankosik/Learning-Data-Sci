{
 "cells": [
  {
   "cell_type": "markdown",
   "metadata": {},
   "source": [
    "# SSA : Singular Spectrum Analysis"
   ]
  },
  {
   "cell_type": "markdown",
   "metadata": {},
   "source": [
    "## 1. Basic SSA\n",
    "Basic SSA performs four step \n",
    "1. Embedding step: The embedding procrdure maps the original time series to a  sequence of multidimensional lagged vectors.\n",
    "2. Singular value decomposition: The result of this step is the singular value decomposition(SVD) of the trajectory matrix.\n",
    "3. Grouping step\n",
    "4. Diagonal Averaging : The last step in Basic SSA transforms each matrix of the grouped decomposition into a new series of lenght N.\n",
    "\n"
   ]
  },
  {
   "cell_type": "code",
   "execution_count": null,
   "metadata": {},
   "outputs": [],
   "source": []
  }
 ],
 "metadata": {
  "kernelspec": {
   "display_name": "Python 3",
   "language": "python",
   "name": "python3"
  },
  "language_info": {
   "codemirror_mode": {
    "name": "ipython",
    "version": 3
   },
   "file_extension": ".py",
   "mimetype": "text/x-python",
   "name": "python",
   "nbconvert_exporter": "python",
   "pygments_lexer": "ipython3",
   "version": "3.7.0"
  }
 },
 "nbformat": 4,
 "nbformat_minor": 2
}
