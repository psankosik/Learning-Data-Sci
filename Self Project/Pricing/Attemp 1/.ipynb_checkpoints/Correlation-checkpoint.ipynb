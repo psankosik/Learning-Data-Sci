{
 "cells": [
  {
   "cell_type": "code",
   "execution_count": 1,
   "metadata": {},
   "outputs": [],
   "source": [
    "from string import ascii_letters\n",
    "import pandas as pd \n",
    "import numpy as np\n",
    "import seaborn as sns\n",
    "import matplotlib.pyplot as plt"
   ]
  },
  {
   "cell_type": "code",
   "execution_count": 2,
   "metadata": {},
   "outputs": [],
   "source": [
    "df = pd.read_excel('prepdata.xlsx',index_col=0,parse_dates=True)\n",
    "df.dropna(axis='columns',inplace=True)"
   ]
  },
  {
   "cell_type": "code",
   "execution_count": 3,
   "metadata": {},
   "outputs": [
    {
     "data": {
      "text/html": [
       "<div>\n",
       "<style scoped>\n",
       "    .dataframe tbody tr th:only-of-type {\n",
       "        vertical-align: middle;\n",
       "    }\n",
       "\n",
       "    .dataframe tbody tr th {\n",
       "        vertical-align: top;\n",
       "    }\n",
       "\n",
       "    .dataframe thead th {\n",
       "        text-align: right;\n",
       "    }\n",
       "</style>\n",
       "<table border=\"1\" class=\"dataframe\">\n",
       "  <thead>\n",
       "    <tr style=\"text-align: right;\">\n",
       "      <th></th>\n",
       "      <th>CO1 Comdty</th>\n",
       "      <th>CO2 Comdty</th>\n",
       "      <th>CO3 Comdty</th>\n",
       "      <th>CO4 Comdty</th>\n",
       "      <th>PVMMDS12 Index</th>\n",
       "      <th>PVMMDS23 Index</th>\n",
       "      <th>PVMMD2M3 Index</th>\n",
       "      <th>PVMMD3M4 Index</th>\n",
       "      <th>PVMMDBSP Index</th>\n",
       "      <th>DKI1 Comdty</th>\n",
       "      <th>...</th>\n",
       "      <th>CFCDQORS Index</th>\n",
       "      <th>CFCDPORL Index</th>\n",
       "      <th>CFCDPORS Index</th>\n",
       "      <th>CFCDQPTS Index</th>\n",
       "      <th>CFCDQSWD Index</th>\n",
       "      <th>CFCDPMMD Index</th>\n",
       "      <th>OISTCRDE Index</th>\n",
       "      <th>GBPUSD Curncy</th>\n",
       "      <th>EURUSD Curncy</th>\n",
       "      <th>JPYUSD Curncy</th>\n",
       "    </tr>\n",
       "  </thead>\n",
       "  <tbody>\n",
       "    <tr>\n",
       "      <th>2018-01-02</th>\n",
       "      <td>66.57</td>\n",
       "      <td>66.13</td>\n",
       "      <td>65.79</td>\n",
       "      <td>65.51</td>\n",
       "      <td>0.25</td>\n",
       "      <td>0.25</td>\n",
       "      <td>0.25</td>\n",
       "      <td>0.25</td>\n",
       "      <td>3.08</td>\n",
       "      <td>64.01</td>\n",
       "      <td>...</td>\n",
       "      <td>55237</td>\n",
       "      <td>36753</td>\n",
       "      <td>39940</td>\n",
       "      <td>70</td>\n",
       "      <td>388157</td>\n",
       "      <td>47687</td>\n",
       "      <td>2480</td>\n",
       "      <td>1.3590</td>\n",
       "      <td>1.2059</td>\n",
       "      <td>0.008906</td>\n",
       "    </tr>\n",
       "    <tr>\n",
       "      <th>2018-01-03</th>\n",
       "      <td>67.84</td>\n",
       "      <td>67.29</td>\n",
       "      <td>66.90</td>\n",
       "      <td>66.57</td>\n",
       "      <td>0.26</td>\n",
       "      <td>0.26</td>\n",
       "      <td>0.26</td>\n",
       "      <td>0.26</td>\n",
       "      <td>3.36</td>\n",
       "      <td>65.24</td>\n",
       "      <td>...</td>\n",
       "      <td>55237</td>\n",
       "      <td>36753</td>\n",
       "      <td>39940</td>\n",
       "      <td>70</td>\n",
       "      <td>388157</td>\n",
       "      <td>47687</td>\n",
       "      <td>2526</td>\n",
       "      <td>1.3516</td>\n",
       "      <td>1.2015</td>\n",
       "      <td>0.008888</td>\n",
       "    </tr>\n",
       "    <tr>\n",
       "      <th>2018-01-04</th>\n",
       "      <td>68.07</td>\n",
       "      <td>67.51</td>\n",
       "      <td>67.11</td>\n",
       "      <td>66.77</td>\n",
       "      <td>0.29</td>\n",
       "      <td>0.29</td>\n",
       "      <td>0.29</td>\n",
       "      <td>0.29</td>\n",
       "      <td>3.34</td>\n",
       "      <td>65.30</td>\n",
       "      <td>...</td>\n",
       "      <td>55237</td>\n",
       "      <td>36753</td>\n",
       "      <td>39940</td>\n",
       "      <td>70</td>\n",
       "      <td>388157</td>\n",
       "      <td>47687</td>\n",
       "      <td>2539</td>\n",
       "      <td>1.3551</td>\n",
       "      <td>1.2068</td>\n",
       "      <td>0.008869</td>\n",
       "    </tr>\n",
       "    <tr>\n",
       "      <th>2018-01-05</th>\n",
       "      <td>67.62</td>\n",
       "      <td>67.10</td>\n",
       "      <td>66.73</td>\n",
       "      <td>66.41</td>\n",
       "      <td>0.28</td>\n",
       "      <td>0.26</td>\n",
       "      <td>0.28</td>\n",
       "      <td>0.26</td>\n",
       "      <td>3.29</td>\n",
       "      <td>64.93</td>\n",
       "      <td>...</td>\n",
       "      <td>55237</td>\n",
       "      <td>36753</td>\n",
       "      <td>39940</td>\n",
       "      <td>70</td>\n",
       "      <td>388157</td>\n",
       "      <td>47687</td>\n",
       "      <td>2539</td>\n",
       "      <td>1.3571</td>\n",
       "      <td>1.2029</td>\n",
       "      <td>0.008844</td>\n",
       "    </tr>\n",
       "    <tr>\n",
       "      <th>2018-01-08</th>\n",
       "      <td>67.78</td>\n",
       "      <td>67.31</td>\n",
       "      <td>66.95</td>\n",
       "      <td>66.64</td>\n",
       "      <td>0.26</td>\n",
       "      <td>0.24</td>\n",
       "      <td>0.26</td>\n",
       "      <td>0.24</td>\n",
       "      <td>3.24</td>\n",
       "      <td>65.09</td>\n",
       "      <td>...</td>\n",
       "      <td>55237</td>\n",
       "      <td>36753</td>\n",
       "      <td>39940</td>\n",
       "      <td>70</td>\n",
       "      <td>388157</td>\n",
       "      <td>47687</td>\n",
       "      <td>2538</td>\n",
       "      <td>1.3568</td>\n",
       "      <td>1.1967</td>\n",
       "      <td>0.008842</td>\n",
       "    </tr>\n",
       "  </tbody>\n",
       "</table>\n",
       "<p>5 rows × 112 columns</p>\n",
       "</div>"
      ],
      "text/plain": [
       "            CO1 Comdty  CO2 Comdty  CO3 Comdty  CO4 Comdty  PVMMDS12 Index  \\\n",
       "2018-01-02       66.57       66.13       65.79       65.51            0.25   \n",
       "2018-01-03       67.84       67.29       66.90       66.57            0.26   \n",
       "2018-01-04       68.07       67.51       67.11       66.77            0.29   \n",
       "2018-01-05       67.62       67.10       66.73       66.41            0.28   \n",
       "2018-01-08       67.78       67.31       66.95       66.64            0.26   \n",
       "\n",
       "            PVMMDS23 Index  PVMMD2M3 Index  PVMMD3M4 Index  PVMMDBSP Index  \\\n",
       "2018-01-02            0.25            0.25            0.25            3.08   \n",
       "2018-01-03            0.26            0.26            0.26            3.36   \n",
       "2018-01-04            0.29            0.29            0.29            3.34   \n",
       "2018-01-05            0.26            0.28            0.26            3.29   \n",
       "2018-01-08            0.24            0.26            0.24            3.24   \n",
       "\n",
       "            DKI1 Comdty      ...        CFCDQORS Index  CFCDPORL Index  \\\n",
       "2018-01-02        64.01      ...                 55237           36753   \n",
       "2018-01-03        65.24      ...                 55237           36753   \n",
       "2018-01-04        65.30      ...                 55237           36753   \n",
       "2018-01-05        64.93      ...                 55237           36753   \n",
       "2018-01-08        65.09      ...                 55237           36753   \n",
       "\n",
       "            CFCDPORS Index  CFCDQPTS Index  CFCDQSWD Index  CFCDPMMD Index  \\\n",
       "2018-01-02           39940              70          388157           47687   \n",
       "2018-01-03           39940              70          388157           47687   \n",
       "2018-01-04           39940              70          388157           47687   \n",
       "2018-01-05           39940              70          388157           47687   \n",
       "2018-01-08           39940              70          388157           47687   \n",
       "\n",
       "            OISTCRDE Index  GBPUSD Curncy  EURUSD Curncy  JPYUSD Curncy  \n",
       "2018-01-02            2480         1.3590         1.2059       0.008906  \n",
       "2018-01-03            2526         1.3516         1.2015       0.008888  \n",
       "2018-01-04            2539         1.3551         1.2068       0.008869  \n",
       "2018-01-05            2539         1.3571         1.2029       0.008844  \n",
       "2018-01-08            2538         1.3568         1.1967       0.008842  \n",
       "\n",
       "[5 rows x 112 columns]"
      ]
     },
     "execution_count": 3,
     "metadata": {},
     "output_type": "execute_result"
    }
   ],
   "source": [
    "df.head()"
   ]
  },
  {
   "cell_type": "code",
   "execution_count": 4,
   "metadata": {},
   "outputs": [],
   "source": [
    "from statsmodels.tsa.stattools import acovf,acf,pacf,pacf_yw,pacf_ols\n",
    "from statsmodels.graphics.tsaplots import plot_acf,plot_pacf"
   ]
  },
  {
   "cell_type": "code",
   "execution_count": 8,
   "metadata": {},
   "outputs": [
    {
     "data": {
      "text/plain": [
       "<matplotlib.axes._subplots.AxesSubplot at 0x1165a1f0>"
      ]
     },
     "execution_count": 8,
     "metadata": {},
     "output_type": "execute_result"
    },
    {
     "data": {
      "image/png": "[encoded data removed]",
      "text/plain": [
       "<Figure size 432x288 with 1 Axes>"
      ]
     },
     "metadata": {
      "needs_background": "light"
     },
     "output_type": "display_data"
    }
   ],
   "source": [
    "df['CO1 Comdty'].plot()"
   ]
  },
  {
   "cell_type": "code",
   "execution_count": 9,
   "metadata": {},
   "outputs": [
    {
     "data": {
      "image/png": "[encoded data removed]",
      "text/plain": [
       "<Figure size 432x288 with 1 Axes>"
      ]
     },
     "metadata": {
      "needs_background": "light"
     },
     "output_type": "display_data"
    }
   ],
   "source": [
    "plot_acf(df['CO1 Comdty']);"
   ]
  },
  {
   "cell_type": "code",
   "execution_count": 7,
   "metadata": {},
   "outputs": [
    {
     "data": {
      "image/png": "[encoded data removed]",
      "text/plain": [
       "<Figure size 432x288 with 1 Axes>"
      ]
     },
     "metadata": {
      "needs_background": "light"
     },
     "output_type": "display_data"
    }
   ],
   "source": [
    "from pandas.plotting import lag_plot\n",
    "lag_plot(df['CO1 Comdty']);"
   ]
  },
  {
   "cell_type": "code",
   "execution_count": null,
   "metadata": {},
   "outputs": [],
   "source": []
  },
  {
   "cell_type": "code",
   "execution_count": null,
   "metadata": {},
   "outputs": [],
   "source": []
  }
 ],
 "metadata": {
  "kernelspec": {
   "display_name": "Python 3",
   "language": "python",
   "name": "python3"
  },
  "language_info": {
   "codemirror_mode": {
    "name": "ipython",
    "version": 3
   },
   "file_extension": ".py",
   "mimetype": "text/x-python",
   "name": "python",
   "nbconvert_exporter": "python",
   "pygments_lexer": "ipython3",
   "version": "3.7.0"
  }
 },
 "nbformat": 4,
 "nbformat_minor": 2
}
