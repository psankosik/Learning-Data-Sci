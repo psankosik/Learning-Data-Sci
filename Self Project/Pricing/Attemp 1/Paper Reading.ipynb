{
 "cells": [
  {
   "cell_type": "markdown",
   "metadata": {},
   "source": [
    "### Question?"
   ]
  },
  {
   "cell_type": "markdown",
   "metadata": {},
   "source": [
    "* In this price indices network, which price indices have a greater impact?\n",
    "* How do they affect each other?\n",
    "* When onr of them changes, which price indiced will transmit fluctuation impact? \n",
    "* How far can the tranmission process go, and what is the transmission path?"
   ]
  },
  {
   "cell_type": "markdown",
   "metadata": {},
   "source": [
    "### What to do \n",
    "1. Clean data\n",
    "2. Create list of vertices\n",
    "3. Create list of edge\n",
    "4. Create correlation coefficient in matrix/table/list?\n",
    "5. Calculate optimal threshold"
   ]
  },
  {
   "cell_type": "markdown",
   "metadata": {},
   "source": [
    "# Topological and Metric properties ???"
   ]
  },
  {
   "cell_type": "code",
   "execution_count": null,
   "metadata": {},
   "outputs": [],
   "source": []
  }
 ],
 "metadata": {
  "kernelspec": {
   "display_name": "Python 3",
   "language": "python",
   "name": "python3"
  },
  "language_info": {
   "codemirror_mode": {
    "name": "ipython",
    "version": 3
   },
   "file_extension": ".py",
   "mimetype": "text/x-python",
   "name": "python",
   "nbconvert_exporter": "python",
   "pygments_lexer": "ipython3",
   "version": "3.7.0"
  }
 },
 "nbformat": 4,
 "nbformat_minor": 2
}
